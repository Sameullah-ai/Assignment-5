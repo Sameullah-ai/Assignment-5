{
 "cells": [
  {
   "cell_type": "code",
   "execution_count": 1,
   "id": "ee1e04ec-0c61-4693-87cc-394de0a133d4",
   "metadata": {},
   "outputs": [],
   "source": [
    "# 1. Write a Python program to construct the following pattern, using a nested for loop.\n"
   ]
  },
  {
   "cell_type": "code",
   "execution_count": 2,
   "id": "5c37a1e6-2de3-4d4b-9e91-be5356053bbd",
   "metadata": {},
   "outputs": [
    {
     "name": "stdout",
     "output_type": "stream",
     "text": [
      "* \n",
      "* * \n",
      "* * * \n",
      "* * * * \n",
      "* * * * * \n",
      "* * * * \n",
      "* * * \n",
      "* * \n",
      "* \n"
     ]
    }
   ],
   "source": [
    "for i in range(1, 6): \n",
    "    for j in range(i): \n",
    "        print(\"*\", end=\" \")\n",
    "    print() \n",
    "\n",
    "for i in range(4, 0, -1):  \n",
    "    for j in range(i): \n",
    "        print(\"*\", end=\" \")\n",
    "    print()  \n"
   ]
  },
  {
   "cell_type": "code",
   "execution_count": 3,
   "id": "af2d575b-7d18-4c7c-bb91-13b34434dfef",
   "metadata": {},
   "outputs": [],
   "source": [
    "# 2. Write a Python program to check whether an alphabet which is given by user\n",
    "# in input prompt is a vowel or consonant."
   ]
  },
  {
   "cell_type": "code",
   "execution_count": 7,
   "id": "16b64ebb-6ea3-4af0-b28f-5b72bc16519d",
   "metadata": {},
   "outputs": [
    {
     "name": "stdin",
     "output_type": "stream",
     "text": [
      "Enter an alphabet:  a\n"
     ]
    },
    {
     "name": "stdout",
     "output_type": "stream",
     "text": [
      "a is a vowel.\n"
     ]
    }
   ],
   "source": [
    "\n",
    "alphabet = input(\"Enter an alphabet: \").lower()\n",
    "if len(alphabet) == 1 and alphabet.isalpha():\n",
    "    if alphabet in 'aeiou':\n",
    "        print(f\"{alphabet} is a vowel.\")\n",
    "    else:\n",
    "        print(f\"{alphabet} is a consonant.\")\n",
    "else:\n",
    "    print(\"Please enter a single alphabet.\")\n"
   ]
  },
  {
   "cell_type": "code",
   "execution_count": 5,
   "id": "9dc53c70-9504-4ab0-afd6-6e6e3bcf090c",
   "metadata": {},
   "outputs": [],
   "source": [
    "# # 3 Write a Python program to create the multiplication table (from 1 to 10)\n",
    "# of a number and the number will be given by user in input prompt.\n",
    "# Expected Output:"
   ]
  },
  {
   "cell_type": "code",
   "execution_count": 9,
   "id": "d4c8f062-fca0-4b67-9e04-2de19860f723",
   "metadata": {},
   "outputs": [
    {
     "name": "stdin",
     "output_type": "stream",
     "text": [
      "Enter a number to create its multiplication table:  6\n"
     ]
    },
    {
     "name": "stdout",
     "output_type": "stream",
     "text": [
      "Multiplication Table for 6:\n",
      "6 x 1 = 6\n",
      "6 x 2 = 12\n",
      "6 x 3 = 18\n",
      "6 x 4 = 24\n",
      "6 x 5 = 30\n",
      "6 x 6 = 36\n",
      "6 x 7 = 42\n",
      "6 x 8 = 48\n",
      "6 x 9 = 54\n",
      "6 x 10 = 60\n"
     ]
    }
   ],
   "source": [
    "number = int(input(\"Enter a number to create its multiplication table: \"))\n",
    "\n",
    "print(f\"Multiplication Table for {number}:\")\n",
    "for i in range(1, 11):\n",
    "    print(f\"{number} x {i} = {number * i}\")\n"
   ]
  },
  {
   "cell_type": "code",
   "execution_count": null,
   "id": "d3c1e84b-57df-427c-8ffd-0cf3ec0f7081",
   "metadata": {},
   "outputs": [],
   "source": [
    "# Write a Python program to guess a number between 1 and 9.\n",
    "# Note : User is prompted to enter a guess. If the user guesses wrong then\n",
    "# the prompt appears again until the guess is correct, on successful guess,\n",
    "# user will get a \"Well guessed!\" message, and the program will exit"
   ]
  },
  {
   "cell_type": "code",
   "execution_count": 11,
   "id": "7664c729-8f02-4847-a15b-0d4232c9b92c",
   "metadata": {},
   "outputs": [
    {
     "name": "stdin",
     "output_type": "stream",
     "text": [
      "Guess a number between 1 and 9:  5\n"
     ]
    },
    {
     "name": "stdout",
     "output_type": "stream",
     "text": [
      "Well guessed!\n"
     ]
    }
   ],
   "source": [
    "import random\n",
    "\n",
    "target_number = random.randint(1, 9)\n",
    "\n",
    "while True:\n",
    "\n",
    "    guess = int(input(\"Guess a number between 1 and 9: \"))\n",
    "    if guess == target_number:\n",
    "        print(\"Well guessed!\")\n",
    "        break \n",
    "    else:\n",
    "        print(\"Try again!\")\n"
   ]
  },
  {
   "cell_type": "code",
   "execution_count": null,
   "id": "79071269-db72-45f8-8be1-52ccae85ec93",
   "metadata": {},
   "outputs": [],
   "source": [
    "# # 5. Write a  Python program to filter the height and width of students, which are stored in a dictionary.\n",
    "# Original Dictionary:\n",
    "# {'Cierra Vega': (6.2, 70), 'Alden Cantrell': (5.9, 65), 'Kierra Gentry': (6.0, 68), 'Pierre Cox': (5.8, 66)}\n",
    "# Height > 6ft and Weight> 70kg:\n",
    "# {'Cierra Vega': (6.2, 70)}"
   ]
  },
  {
   "cell_type": "code",
   "execution_count": 23,
   "id": "9d2474b4-8031-413c-bd6b-b373546c35de",
   "metadata": {},
   "outputs": [
    {
     "name": "stdout",
     "output_type": "stream",
     "text": [
      "Height > 6ft and Weight > 70kg:\n",
      "{}\n"
     ]
    }
   ],
   "source": [
    "students = {\n",
    "    'Cierra Vega': (6.2, 70),\n",
    "    'Alden Cantrell': (5.9, 65),\n",
    "    'Kierra Gentry': (6.0, 68),\n",
    "    'Pierre Cox': (5.8, 66)\n",
    "}\n",
    "\n",
    "filtered_students = {}\n",
    "\n",
    "for name, (height, weight) in students.items():\n",
    "    if height > 6.0 and weight > 70:\n",
    "        filtered_students[name] = (height, weight)\n",
    "print(\"Height > 6ft and Weight > 70kg:\")\n",
    "print(filtered_students)\n"
   ]
  },
  {
   "cell_type": "code",
   "execution_count": null,
   "id": "9a85b074-c52d-44c0-9a17-304b0b6839b3",
   "metadata": {},
   "outputs": [],
   "source": [
    "# 6. A  Python dictionary contains List as a value. Write a Python program to clear the list values in the said dictionary.\n",
    "# Original Dictionary:\n",
    "# {'C1': [10, 20, 30], 'C2': [20, 30, 40], 'C3': [12, 34]}\n",
    "# Clear the list values in the said dictionary:\n",
    "# # {'C1': [], 'C2': [], 'C3': []}"
   ]
  },
  {
   "cell_type": "code",
   "execution_count": 25,
   "id": "bc82b015-17a9-4d35-b01f-d79e85f7d7a8",
   "metadata": {},
   "outputs": [
    {
     "name": "stdout",
     "output_type": "stream",
     "text": [
      "Clear the list values in the said dictionary:\n",
      "{'C1': [], 'C2': [], 'C3': []}\n"
     ]
    }
   ],
   "source": [
    "my_dict = {\n",
    "    'C1': [10, 20, 30],\n",
    "    'C2': [20, 30, 40],\n",
    "    'C3': [12, 34]\n",
    "}\n",
    "\n",
    "for key in my_dict:\n",
    "    my_dict[key] = []\n",
    "\n",
    "print(\"Clear the list values in the said dictionary:\")\n",
    "print(my_dict)\n"
   ]
  },
  {
   "cell_type": "code",
   "execution_count": null,
   "id": "546b704b-400b-4bcb-bd8e-e88d7a84ecc8",
   "metadata": {},
   "outputs": [],
   "source": [
    "# Write a  Python program to filter the height and width of students, which are stored in a dictionary.\n",
    "# Original Dictionary:\n",
    "# {'Cierra Vega': (6.2, 70), 'Alden Cantrell': (5.9, 65), 'Kierra Gentry': (6.0, 68), 'Pierre Cox': (5.8, 66)}\n",
    "# Height > 6ft and Weight> 70kg:\n",
    "# {'Cierra Vega': (6.2, 70)}"
   ]
  },
  {
   "cell_type": "code",
   "execution_count": 27,
   "id": "9b4508d8-2d60-42a5-a449-18e8a471df71",
   "metadata": {},
   "outputs": [
    {
     "name": "stdout",
     "output_type": "stream",
     "text": [
      "The Nile runs through Egypt.\n",
      "The Amazon runs through Brazil.\n",
      "The Yangtze runs through China.\n",
      "\n",
      "Rivers included in the dictionary:\n",
      "Nile\n",
      "Amazon\n",
      "Yangtze\n",
      "\n",
      "Countries included in the dictionary:\n",
      "Egypt\n",
      "Brazil\n",
      "China\n"
     ]
    }
   ],
   "source": [
    "rivers = {\n",
    "    'Nile': 'Egypt',\n",
    "    'Amazon': 'Brazil',\n",
    "    'Yangtze': 'China'\n",
    "}\n",
    "\n",
    "for river, country in rivers.items():\n",
    "    print(f\"The {river} runs through {country}.\")\n",
    "\n",
    "\n",
    "print(\"\\nRivers included in the dictionary:\")\n",
    "for river in rivers.keys():\n",
    "    print(river)\n",
    "\n",
    "\n",
    "print(\"\\nCountries included in the dictionary:\")\n",
    "for country in rivers.values():\n",
    "    print(country)\n"
   ]
  },
  {
   "cell_type": "code",
   "execution_count": null,
   "id": "7bde4b1e-47d0-4119-a1cd-b39f0239278e",
   "metadata": {},
   "outputs": [],
   "source": [
    "# . Movie Tickets: A movie theater charges different ticket prices depending on\n",
    "# a person’s age. If a person is under the age of 3, the ticket is free; if they are\n",
    "# between 3 and 12, the ticket is $10; and if they are over age 12, the ticket is\n",
    "# $15. Write a loop in which you ask users their age, and then tell them the cost\n",
    "# of their movie ticket."
   ]
  },
  {
   "cell_type": "code",
   "execution_count": null,
   "id": "c2a8ea69-6425-44f8-8071-7fdb0415cc72",
   "metadata": {},
   "outputs": [
    {
     "name": "stdin",
     "output_type": "stream",
     "text": [
      "Please enter your age (or type 'quit' to exit):  5\n"
     ]
    },
    {
     "name": "stdout",
     "output_type": "stream",
     "text": [
      "Your ticket costs $10.\n"
     ]
    },
    {
     "name": "stdin",
     "output_type": "stream",
     "text": [
      "Please enter your age (or type 'quit' to exit):  10\n"
     ]
    },
    {
     "name": "stdout",
     "output_type": "stream",
     "text": [
      "Your ticket costs $10.\n"
     ]
    },
    {
     "name": "stdin",
     "output_type": "stream",
     "text": [
      "Please enter your age (or type 'quit' to exit):  45\n"
     ]
    },
    {
     "name": "stdout",
     "output_type": "stream",
     "text": [
      "Your ticket costs $15.\n"
     ]
    },
    {
     "name": "stdin",
     "output_type": "stream",
     "text": [
      "Please enter your age (or type 'quit' to exit):  12\n"
     ]
    },
    {
     "name": "stdout",
     "output_type": "stream",
     "text": [
      "Your ticket costs $10.\n"
     ]
    },
    {
     "name": "stdin",
     "output_type": "stream",
     "text": [
      "Please enter your age (or type 'quit' to exit):  8\n"
     ]
    },
    {
     "name": "stdout",
     "output_type": "stream",
     "text": [
      "Your ticket costs $10.\n"
     ]
    }
   ],
   "source": [
    "while True:\n",
    "    \n",
    "    age = input(\"Please enter your age (or type 'quit' to exit): \")\n",
    "\n",
    "   \n",
    "    if age.lower() == 'quit':\n",
    "        print(\"Goodbye!\")\n",
    "        break\n",
    "\n",
    "   \n",
    "    age = int(age)\n",
    "\n",
    "    \n",
    "    if age < 3:\n",
    "        ticket_price = \"free\"\n",
    "    elif 3 <= age <= 12:\n",
    "        ticket_price = \"$10\"\n",
    "    else:\n",
    "        ticket_price = \"$15\"\n",
    "\n",
    "\n",
    "    print(f\"Your ticket costs {ticket_price}.\")\n"
   ]
  },
  {
   "cell_type": "code",
   "execution_count": null,
   "id": "0bf8bea4-134b-4368-9482-0794a66e310b",
   "metadata": {},
   "outputs": [],
   "source": []
  }
 ],
 "metadata": {
  "kernelspec": {
   "display_name": "Python 3 (ipykernel)",
   "language": "python",
   "name": "python3"
  },
  "language_info": {
   "codemirror_mode": {
    "name": "ipython",
    "version": 3
   },
   "file_extension": ".py",
   "mimetype": "text/x-python",
   "name": "python",
   "nbconvert_exporter": "python",
   "pygments_lexer": "ipython3",
   "version": "3.12.4"
  }
 },
 "nbformat": 4,
 "nbformat_minor": 5
}
